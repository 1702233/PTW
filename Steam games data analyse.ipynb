{
 "cells": [
  {
   "cell_type": "code",
   "execution_count": 1,
   "metadata": {},
   "outputs": [],
   "source": [
    "import numpy as np\n",
    "import pandas as pd\n",
    "import seaborn as sns"
   ]
  },
  {
   "cell_type": "markdown",
   "metadata": {},
   "source": [
    "# Steam games\n",
    "\n",
    "In dit notebook is een data analyse voor steam games. Daarnaast wordt de library pandas vergeleken met 'vanilla' python bij het uitvoeren van de opdrachten om te laten zien waarom pandas het uitvoeren van data science projecten versneld."
   ]
  },
  {
   "cell_type": "markdown",
   "metadata": {},
   "source": [
    "## Data inladen\n",
    "\n",
    "De data wordt in de volgende functie ingeladen in een pandas dataframe."
   ]
  },
  {
   "cell_type": "code",
   "execution_count": 2,
   "metadata": {},
   "outputs": [],
   "source": [
    "df = pd.read_json('./steam.json')"
   ]
  },
  {
   "cell_type": "code",
   "execution_count": 3,
   "metadata": {
    "scrolled": true
   },
   "outputs": [
    {
     "data": {
      "text/html": [
       "<div>\n",
       "<style scoped>\n",
       "    .dataframe tbody tr th:only-of-type {\n",
       "        vertical-align: middle;\n",
       "    }\n",
       "\n",
       "    .dataframe tbody tr th {\n",
       "        vertical-align: top;\n",
       "    }\n",
       "\n",
       "    .dataframe thead th {\n",
       "        text-align: right;\n",
       "    }\n",
       "</style>\n",
       "<table border=\"1\" class=\"dataframe\">\n",
       "  <thead>\n",
       "    <tr style=\"text-align: right;\">\n",
       "      <th></th>\n",
       "      <th>appid</th>\n",
       "      <th>name</th>\n",
       "      <th>release_date</th>\n",
       "      <th>english</th>\n",
       "      <th>developer</th>\n",
       "      <th>publisher</th>\n",
       "      <th>platforms</th>\n",
       "      <th>required_age</th>\n",
       "      <th>categories</th>\n",
       "      <th>genres</th>\n",
       "      <th>steamspy_tags</th>\n",
       "      <th>achievements</th>\n",
       "      <th>positive_ratings</th>\n",
       "      <th>negative_ratings</th>\n",
       "      <th>average_playtime</th>\n",
       "      <th>median_playtime</th>\n",
       "      <th>owners</th>\n",
       "      <th>price</th>\n",
       "    </tr>\n",
       "  </thead>\n",
       "  <tbody>\n",
       "    <tr>\n",
       "      <th>0</th>\n",
       "      <td>10</td>\n",
       "      <td>Counter-Strike</td>\n",
       "      <td>2000-11-01</td>\n",
       "      <td>1</td>\n",
       "      <td>Valve</td>\n",
       "      <td>Valve</td>\n",
       "      <td>windows;mac;linux</td>\n",
       "      <td>0</td>\n",
       "      <td>Multi-player;Online Multi-Player;Local Multi-P...</td>\n",
       "      <td>Action</td>\n",
       "      <td>Action;FPS;Multiplayer</td>\n",
       "      <td>0</td>\n",
       "      <td>124534</td>\n",
       "      <td>3339</td>\n",
       "      <td>17612</td>\n",
       "      <td>317</td>\n",
       "      <td>10000000-20000000</td>\n",
       "      <td>7.19</td>\n",
       "    </tr>\n",
       "    <tr>\n",
       "      <th>1</th>\n",
       "      <td>20</td>\n",
       "      <td>Team Fortress Classic</td>\n",
       "      <td>1999-04-01</td>\n",
       "      <td>1</td>\n",
       "      <td>Valve</td>\n",
       "      <td>Valve</td>\n",
       "      <td>windows;mac;linux</td>\n",
       "      <td>0</td>\n",
       "      <td>Multi-player;Online Multi-Player;Local Multi-P...</td>\n",
       "      <td>Action</td>\n",
       "      <td>Action;FPS;Multiplayer</td>\n",
       "      <td>0</td>\n",
       "      <td>3318</td>\n",
       "      <td>633</td>\n",
       "      <td>277</td>\n",
       "      <td>62</td>\n",
       "      <td>5000000-10000000</td>\n",
       "      <td>3.99</td>\n",
       "    </tr>\n",
       "    <tr>\n",
       "      <th>2</th>\n",
       "      <td>30</td>\n",
       "      <td>Day of Defeat</td>\n",
       "      <td>2003-05-01</td>\n",
       "      <td>1</td>\n",
       "      <td>Valve</td>\n",
       "      <td>Valve</td>\n",
       "      <td>windows;mac;linux</td>\n",
       "      <td>0</td>\n",
       "      <td>Multi-player;Valve Anti-Cheat enabled</td>\n",
       "      <td>Action</td>\n",
       "      <td>FPS;World War II;Multiplayer</td>\n",
       "      <td>0</td>\n",
       "      <td>3416</td>\n",
       "      <td>398</td>\n",
       "      <td>187</td>\n",
       "      <td>34</td>\n",
       "      <td>5000000-10000000</td>\n",
       "      <td>3.99</td>\n",
       "    </tr>\n",
       "    <tr>\n",
       "      <th>3</th>\n",
       "      <td>40</td>\n",
       "      <td>Deathmatch Classic</td>\n",
       "      <td>2001-06-01</td>\n",
       "      <td>1</td>\n",
       "      <td>Valve</td>\n",
       "      <td>Valve</td>\n",
       "      <td>windows;mac;linux</td>\n",
       "      <td>0</td>\n",
       "      <td>Multi-player;Online Multi-Player;Local Multi-P...</td>\n",
       "      <td>Action</td>\n",
       "      <td>Action;FPS;Multiplayer</td>\n",
       "      <td>0</td>\n",
       "      <td>1273</td>\n",
       "      <td>267</td>\n",
       "      <td>258</td>\n",
       "      <td>184</td>\n",
       "      <td>5000000-10000000</td>\n",
       "      <td>3.99</td>\n",
       "    </tr>\n",
       "    <tr>\n",
       "      <th>4</th>\n",
       "      <td>50</td>\n",
       "      <td>Half-Life: Opposing Force</td>\n",
       "      <td>1999-11-01</td>\n",
       "      <td>1</td>\n",
       "      <td>Gearbox Software</td>\n",
       "      <td>Valve</td>\n",
       "      <td>windows;mac;linux</td>\n",
       "      <td>0</td>\n",
       "      <td>Single-player;Multi-player;Valve Anti-Cheat en...</td>\n",
       "      <td>Action</td>\n",
       "      <td>FPS;Action;Sci-fi</td>\n",
       "      <td>0</td>\n",
       "      <td>5250</td>\n",
       "      <td>288</td>\n",
       "      <td>624</td>\n",
       "      <td>415</td>\n",
       "      <td>5000000-10000000</td>\n",
       "      <td>3.99</td>\n",
       "    </tr>\n",
       "  </tbody>\n",
       "</table>\n",
       "</div>"
      ],
      "text/plain": [
       "   appid                       name release_date  english         developer  \\\n",
       "0     10             Counter-Strike   2000-11-01        1             Valve   \n",
       "1     20      Team Fortress Classic   1999-04-01        1             Valve   \n",
       "2     30              Day of Defeat   2003-05-01        1             Valve   \n",
       "3     40         Deathmatch Classic   2001-06-01        1             Valve   \n",
       "4     50  Half-Life: Opposing Force   1999-11-01        1  Gearbox Software   \n",
       "\n",
       "  publisher          platforms  required_age  \\\n",
       "0     Valve  windows;mac;linux             0   \n",
       "1     Valve  windows;mac;linux             0   \n",
       "2     Valve  windows;mac;linux             0   \n",
       "3     Valve  windows;mac;linux             0   \n",
       "4     Valve  windows;mac;linux             0   \n",
       "\n",
       "                                          categories  genres  \\\n",
       "0  Multi-player;Online Multi-Player;Local Multi-P...  Action   \n",
       "1  Multi-player;Online Multi-Player;Local Multi-P...  Action   \n",
       "2              Multi-player;Valve Anti-Cheat enabled  Action   \n",
       "3  Multi-player;Online Multi-Player;Local Multi-P...  Action   \n",
       "4  Single-player;Multi-player;Valve Anti-Cheat en...  Action   \n",
       "\n",
       "                  steamspy_tags  achievements  positive_ratings  \\\n",
       "0        Action;FPS;Multiplayer             0            124534   \n",
       "1        Action;FPS;Multiplayer             0              3318   \n",
       "2  FPS;World War II;Multiplayer             0              3416   \n",
       "3        Action;FPS;Multiplayer             0              1273   \n",
       "4             FPS;Action;Sci-fi             0              5250   \n",
       "\n",
       "   negative_ratings  average_playtime  median_playtime             owners  \\\n",
       "0              3339             17612              317  10000000-20000000   \n",
       "1               633               277               62   5000000-10000000   \n",
       "2               398               187               34   5000000-10000000   \n",
       "3               267               258              184   5000000-10000000   \n",
       "4               288               624              415   5000000-10000000   \n",
       "\n",
       "   price  \n",
       "0   7.19  \n",
       "1   3.99  \n",
       "2   3.99  \n",
       "3   3.99  \n",
       "4   3.99  "
      ]
     },
     "execution_count": 3,
     "metadata": {},
     "output_type": "execute_result"
    }
   ],
   "source": [
    "df.head()"
   ]
  },
  {
   "cell_type": "code",
   "execution_count": 4,
   "metadata": {},
   "outputs": [
    {
     "data": {
      "text/plain": [
       "27065"
      ]
     },
     "execution_count": 4,
     "metadata": {},
     "output_type": "execute_result"
    }
   ],
   "source": [
    "len(df)"
   ]
  },
  {
   "cell_type": "markdown",
   "metadata": {},
   "source": [
    "De dataframe kan op verschillende manieren worden gesorteerd. In volgende functie wordt de dataframe gesorteerd op kolom \"price\". Hierbij wordt het duurste spel eerst getoond."
   ]
  },
  {
   "cell_type": "markdown",
   "metadata": {},
   "source": [
    "## Data sorteren"
   ]
  },
  {
   "cell_type": "code",
   "execution_count": 5,
   "metadata": {},
   "outputs": [
    {
     "data": {
      "text/html": [
       "<div>\n",
       "<style scoped>\n",
       "    .dataframe tbody tr th:only-of-type {\n",
       "        vertical-align: middle;\n",
       "    }\n",
       "\n",
       "    .dataframe tbody tr th {\n",
       "        vertical-align: top;\n",
       "    }\n",
       "\n",
       "    .dataframe thead th {\n",
       "        text-align: right;\n",
       "    }\n",
       "</style>\n",
       "<table border=\"1\" class=\"dataframe\">\n",
       "  <thead>\n",
       "    <tr style=\"text-align: right;\">\n",
       "      <th></th>\n",
       "      <th>appid</th>\n",
       "      <th>name</th>\n",
       "      <th>release_date</th>\n",
       "      <th>english</th>\n",
       "      <th>developer</th>\n",
       "      <th>publisher</th>\n",
       "      <th>platforms</th>\n",
       "      <th>required_age</th>\n",
       "      <th>categories</th>\n",
       "      <th>genres</th>\n",
       "      <th>steamspy_tags</th>\n",
       "      <th>achievements</th>\n",
       "      <th>positive_ratings</th>\n",
       "      <th>negative_ratings</th>\n",
       "      <th>average_playtime</th>\n",
       "      <th>median_playtime</th>\n",
       "      <th>owners</th>\n",
       "      <th>price</th>\n",
       "    </tr>\n",
       "  </thead>\n",
       "  <tbody>\n",
       "    <tr>\n",
       "      <th>21095</th>\n",
       "      <td>821800</td>\n",
       "      <td>ADR-Labelling Game</td>\n",
       "      <td>2018-04-12</td>\n",
       "      <td>1</td>\n",
       "      <td>Suomen Kuljetusturva Oy</td>\n",
       "      <td>Suomen Kuljetusturva Oy</td>\n",
       "      <td>windows</td>\n",
       "      <td>0</td>\n",
       "      <td>Single-player</td>\n",
       "      <td>Simulation</td>\n",
       "      <td>Simulation;Difficult</td>\n",
       "      <td>0</td>\n",
       "      <td>1</td>\n",
       "      <td>0</td>\n",
       "      <td>0</td>\n",
       "      <td>0</td>\n",
       "      <td>0-20000</td>\n",
       "      <td>421.99</td>\n",
       "    </tr>\n",
       "    <tr>\n",
       "      <th>13055</th>\n",
       "      <td>585610</td>\n",
       "      <td>GameMaker Studio 2 UWP</td>\n",
       "      <td>2017-03-08</td>\n",
       "      <td>1</td>\n",
       "      <td>YoYo Games Ltd.</td>\n",
       "      <td>YoYo Games Ltd.</td>\n",
       "      <td>windows;mac</td>\n",
       "      <td>0</td>\n",
       "      <td>In-App Purchases</td>\n",
       "      <td>Animation &amp; Modeling;Design &amp; Illustration;Edu...</td>\n",
       "      <td>Game Development;Design &amp; Illustration;Utilities</td>\n",
       "      <td>0</td>\n",
       "      <td>1</td>\n",
       "      <td>0</td>\n",
       "      <td>0</td>\n",
       "      <td>0</td>\n",
       "      <td>0-20000</td>\n",
       "      <td>303.99</td>\n",
       "    </tr>\n",
       "    <tr>\n",
       "      <th>10027</th>\n",
       "      <td>502570</td>\n",
       "      <td>Houdini Indie</td>\n",
       "      <td>2018-10-10</td>\n",
       "      <td>1</td>\n",
       "      <td>SideFX</td>\n",
       "      <td>SideFX</td>\n",
       "      <td>windows</td>\n",
       "      <td>0</td>\n",
       "      <td>Partial Controller Support;Steam Cloud</td>\n",
       "      <td>Animation &amp; Modeling;Design &amp; Illustration;Gam...</td>\n",
       "      <td>Animation &amp; Modeling;Game Development;3D</td>\n",
       "      <td>0</td>\n",
       "      <td>23</td>\n",
       "      <td>0</td>\n",
       "      <td>0</td>\n",
       "      <td>0</td>\n",
       "      <td>0-20000</td>\n",
       "      <td>209.99</td>\n",
       "    </tr>\n",
       "    <tr>\n",
       "      <th>25558</th>\n",
       "      <td>977200</td>\n",
       "      <td>Bible Test</td>\n",
       "      <td>2018-11-27</td>\n",
       "      <td>1</td>\n",
       "      <td>FIRST_UKRAINIAN</td>\n",
       "      <td>FIRST_UKRAINIAN</td>\n",
       "      <td>windows</td>\n",
       "      <td>0</td>\n",
       "      <td>Single-player;Steam Achievements</td>\n",
       "      <td>Adventure;Casual;Indie;Simulation</td>\n",
       "      <td>Indie;Casual;Adventure</td>\n",
       "      <td>5</td>\n",
       "      <td>24</td>\n",
       "      <td>6</td>\n",
       "      <td>0</td>\n",
       "      <td>0</td>\n",
       "      <td>0-20000</td>\n",
       "      <td>154.99</td>\n",
       "    </tr>\n",
       "    <tr>\n",
       "      <th>10903</th>\n",
       "      <td>526310</td>\n",
       "      <td>Silhouette</td>\n",
       "      <td>2016-11-13</td>\n",
       "      <td>1</td>\n",
       "      <td>Apeirogon Games</td>\n",
       "      <td>Apeirogon Games</td>\n",
       "      <td>windows</td>\n",
       "      <td>0</td>\n",
       "      <td>Single-player;Partial Controller Support</td>\n",
       "      <td>Adventure;Indie;Early Access</td>\n",
       "      <td>Early Access;Adventure;Indie</td>\n",
       "      <td>0</td>\n",
       "      <td>13</td>\n",
       "      <td>4</td>\n",
       "      <td>0</td>\n",
       "      <td>0</td>\n",
       "      <td>0-20000</td>\n",
       "      <td>154.99</td>\n",
       "    </tr>\n",
       "  </tbody>\n",
       "</table>\n",
       "</div>"
      ],
      "text/plain": [
       "        appid                    name release_date  english  \\\n",
       "21095  821800      ADR-Labelling Game   2018-04-12        1   \n",
       "13055  585610  GameMaker Studio 2 UWP   2017-03-08        1   \n",
       "10027  502570           Houdini Indie   2018-10-10        1   \n",
       "25558  977200              Bible Test   2018-11-27        1   \n",
       "10903  526310              Silhouette   2016-11-13        1   \n",
       "\n",
       "                     developer                publisher    platforms  \\\n",
       "21095  Suomen Kuljetusturva Oy  Suomen Kuljetusturva Oy      windows   \n",
       "13055          YoYo Games Ltd.          YoYo Games Ltd.  windows;mac   \n",
       "10027                   SideFX                   SideFX      windows   \n",
       "25558          FIRST_UKRAINIAN          FIRST_UKRAINIAN      windows   \n",
       "10903          Apeirogon Games          Apeirogon Games      windows   \n",
       "\n",
       "       required_age                                categories  \\\n",
       "21095             0                             Single-player   \n",
       "13055             0                          In-App Purchases   \n",
       "10027             0    Partial Controller Support;Steam Cloud   \n",
       "25558             0          Single-player;Steam Achievements   \n",
       "10903             0  Single-player;Partial Controller Support   \n",
       "\n",
       "                                                  genres  \\\n",
       "21095                                         Simulation   \n",
       "13055  Animation & Modeling;Design & Illustration;Edu...   \n",
       "10027  Animation & Modeling;Design & Illustration;Gam...   \n",
       "25558                  Adventure;Casual;Indie;Simulation   \n",
       "10903                       Adventure;Indie;Early Access   \n",
       "\n",
       "                                          steamspy_tags  achievements  \\\n",
       "21095                              Simulation;Difficult             0   \n",
       "13055  Game Development;Design & Illustration;Utilities             0   \n",
       "10027          Animation & Modeling;Game Development;3D             0   \n",
       "25558                            Indie;Casual;Adventure             5   \n",
       "10903                      Early Access;Adventure;Indie             0   \n",
       "\n",
       "       positive_ratings  negative_ratings  average_playtime  median_playtime  \\\n",
       "21095                 1                 0                 0                0   \n",
       "13055                 1                 0                 0                0   \n",
       "10027                23                 0                 0                0   \n",
       "25558                24                 6                 0                0   \n",
       "10903                13                 4                 0                0   \n",
       "\n",
       "        owners   price  \n",
       "21095  0-20000  421.99  \n",
       "13055  0-20000  303.99  \n",
       "10027  0-20000  209.99  \n",
       "25558  0-20000  154.99  \n",
       "10903  0-20000  154.99  "
      ]
     },
     "execution_count": 5,
     "metadata": {},
     "output_type": "execute_result"
    }
   ],
   "source": [
    "df.sort_values(by=[\"price\"], ascending=False).head()"
   ]
  },
  {
   "cell_type": "markdown",
   "metadata": {},
   "source": [
    "Laten we nu hetzelfde doen zonder pandas."
   ]
  },
  {
   "cell_type": "code",
   "execution_count": 6,
   "metadata": {},
   "outputs": [
    {
     "data": {
      "text/plain": [
       "[{'appid': 10,\n",
       "  'name': 'Counter-Strike',\n",
       "  'release_date': '2000-11-01',\n",
       "  'english': 1,\n",
       "  'developer': 'Valve',\n",
       "  'publisher': 'Valve',\n",
       "  'platforms': 'windows;mac;linux',\n",
       "  'required_age': 0,\n",
       "  'categories': 'Multi-player;Online Multi-Player;Local Multi-Player;Valve Anti-Cheat enabled',\n",
       "  'genres': 'Action',\n",
       "  'steamspy_tags': 'Action;FPS;Multiplayer',\n",
       "  'achievements': 0,\n",
       "  'positive_ratings': 124534,\n",
       "  'negative_ratings': 3339,\n",
       "  'average_playtime': 17612,\n",
       "  'median_playtime': 317,\n",
       "  'owners': '10000000-20000000',\n",
       "  'price': 7.19},\n",
       " {'appid': 20,\n",
       "  'name': 'Team Fortress Classic',\n",
       "  'release_date': '1999-04-01',\n",
       "  'english': 1,\n",
       "  'developer': 'Valve',\n",
       "  'publisher': 'Valve',\n",
       "  'platforms': 'windows;mac;linux',\n",
       "  'required_age': 0,\n",
       "  'categories': 'Multi-player;Online Multi-Player;Local Multi-Player;Valve Anti-Cheat enabled',\n",
       "  'genres': 'Action',\n",
       "  'steamspy_tags': 'Action;FPS;Multiplayer',\n",
       "  'achievements': 0,\n",
       "  'positive_ratings': 3318,\n",
       "  'negative_ratings': 633,\n",
       "  'average_playtime': 277,\n",
       "  'median_playtime': 62,\n",
       "  'owners': '5000000-10000000',\n",
       "  'price': 3.99},\n",
       " {'appid': 30,\n",
       "  'name': 'Day of Defeat',\n",
       "  'release_date': '2003-05-01',\n",
       "  'english': 1,\n",
       "  'developer': 'Valve',\n",
       "  'publisher': 'Valve',\n",
       "  'platforms': 'windows;mac;linux',\n",
       "  'required_age': 0,\n",
       "  'categories': 'Multi-player;Valve Anti-Cheat enabled',\n",
       "  'genres': 'Action',\n",
       "  'steamspy_tags': 'FPS;World War II;Multiplayer',\n",
       "  'achievements': 0,\n",
       "  'positive_ratings': 3416,\n",
       "  'negative_ratings': 398,\n",
       "  'average_playtime': 187,\n",
       "  'median_playtime': 34,\n",
       "  'owners': '5000000-10000000',\n",
       "  'price': 3.99}]"
      ]
     },
     "execution_count": 6,
     "metadata": {},
     "output_type": "execute_result"
    }
   ],
   "source": [
    "import json\n",
    "\n",
    "with open('./steam.json') as f:\n",
    "    data = json.load(f)\n",
    "data[:3]"
   ]
  },
  {
   "cell_type": "markdown",
   "metadata": {},
   "source": [
    "Dat was nog niet zo moeilijk. Laten we nu proberen dit te sortern op prijs net zoals eerder."
   ]
  },
  {
   "cell_type": "code",
   "execution_count": 7,
   "metadata": {},
   "outputs": [
    {
     "data": {
      "text/plain": [
       "[{'appid': 821800,\n",
       "  'name': 'ADR-Labelling Game',\n",
       "  'release_date': '2018-04-12',\n",
       "  'english': 1,\n",
       "  'developer': 'Suomen Kuljetusturva Oy',\n",
       "  'publisher': 'Suomen Kuljetusturva Oy',\n",
       "  'platforms': 'windows',\n",
       "  'required_age': 0,\n",
       "  'categories': 'Single-player',\n",
       "  'genres': 'Simulation',\n",
       "  'steamspy_tags': 'Simulation;Difficult',\n",
       "  'achievements': 0,\n",
       "  'positive_ratings': 1,\n",
       "  'negative_ratings': 0,\n",
       "  'average_playtime': 0,\n",
       "  'median_playtime': 0,\n",
       "  'owners': '0-20000',\n",
       "  'price': 421.99},\n",
       " {'appid': 585610,\n",
       "  'name': 'GameMaker Studio 2 UWP',\n",
       "  'release_date': '2017-03-08',\n",
       "  'english': 1,\n",
       "  'developer': 'YoYo Games Ltd.',\n",
       "  'publisher': 'YoYo Games Ltd.',\n",
       "  'platforms': 'windows;mac',\n",
       "  'required_age': 0,\n",
       "  'categories': 'In-App Purchases',\n",
       "  'genres': 'Animation & Modeling;Design & Illustration;Education;Software Training;Utilities;Web Publishing;Game Development',\n",
       "  'steamspy_tags': 'Game Development;Design & Illustration;Utilities',\n",
       "  'achievements': 0,\n",
       "  'positive_ratings': 1,\n",
       "  'negative_ratings': 0,\n",
       "  'average_playtime': 0,\n",
       "  'median_playtime': 0,\n",
       "  'owners': '0-20000',\n",
       "  'price': 303.99},\n",
       " {'appid': 502570,\n",
       "  'name': 'Houdini Indie',\n",
       "  'release_date': '2018-10-10',\n",
       "  'english': 1,\n",
       "  'developer': 'SideFX',\n",
       "  'publisher': 'SideFX',\n",
       "  'platforms': 'windows',\n",
       "  'required_age': 0,\n",
       "  'categories': 'Partial Controller Support;Steam Cloud',\n",
       "  'genres': 'Animation & Modeling;Design & Illustration;Game Development',\n",
       "  'steamspy_tags': 'Animation & Modeling;Game Development;3D',\n",
       "  'achievements': 0,\n",
       "  'positive_ratings': 23,\n",
       "  'negative_ratings': 0,\n",
       "  'average_playtime': 0,\n",
       "  'median_playtime': 0,\n",
       "  'owners': '0-20000',\n",
       "  'price': 209.99}]"
      ]
     },
     "execution_count": 7,
     "metadata": {},
     "output_type": "execute_result"
    }
   ],
   "source": [
    "def sort_func(x):\n",
    "    return x['price']\n",
    "\n",
    "data.sort(key=sort_func, reverse=True)\n",
    "\n",
    "data[:3]"
   ]
  },
  {
   "cell_type": "markdown",
   "metadata": {},
   "source": [
    "Dit is opzich prima te doen, maar koste mij veel meer tijd om voor elkaar te krijgen door meer zoek werk. Laten we nu een eigen sorteer algoritme gebruiken. Het is mogelijk om deze functie aan te roepen met een func parameter. Deze paramter geeft standaard de waarde terug die hij als input krijgt. Door deze waarde aan te passen kunnen we de json data sorteren. Ook hier kunnen we de lijst omkeren aan het einde van het sorteren."
   ]
  },
  {
   "cell_type": "code",
   "execution_count": 8,
   "metadata": {},
   "outputs": [],
   "source": [
    "def swap(lst, i, j):\n",
    "    x = lst[i]\n",
    "    y = lst[j]\n",
    "\n",
    "    lst[i] = y\n",
    "    lst[j] = x\n",
    "\n",
    "def my_sort(lst, func=lambda x: x, reverse=False):  \n",
    "    steps = 0\n",
    "\n",
    "    while True:\n",
    "        swapped = False\n",
    "\n",
    "        for i in range(len(lst)-1):\n",
    "            steps += 1\n",
    "            if func(lst[i]) > func(lst[i+1]):\n",
    "                swap(lst, i, (i+1))\n",
    "                swapped = True\n",
    "\n",
    "        if not swapped:\n",
    "            break\n",
    "    \n",
    "    if reverse:\n",
    "        lst.reverse()\n",
    "\n",
    "    return steps"
   ]
  },
  {
   "cell_type": "markdown",
   "metadata": {},
   "source": [
    "Test op een lijst van getallen."
   ]
  },
  {
   "cell_type": "code",
   "execution_count": 9,
   "metadata": {},
   "outputs": [
    {
     "data": {
      "text/plain": [
       "25"
      ]
     },
     "execution_count": 9,
     "metadata": {},
     "output_type": "execute_result"
    }
   ],
   "source": [
    "n = [5, 8, 3, 13, 1, 6]\n",
    "my_sort(n)"
   ]
  },
  {
   "cell_type": "markdown",
   "metadata": {},
   "source": [
    "De lijst is in 25 stappen gesorteerd. De lijst is van klein naar groot gesorteerd."
   ]
  },
  {
   "cell_type": "code",
   "execution_count": 10,
   "metadata": {},
   "outputs": [
    {
     "data": {
      "text/plain": [
       "[1, 3, 5, 6, 8, 13]"
      ]
     },
     "execution_count": 10,
     "metadata": {},
     "output_type": "execute_result"
    }
   ],
   "source": [
    "n"
   ]
  },
  {
   "cell_type": "markdown",
   "metadata": {},
   "source": [
    "Laten we nu de json data sorteren met de func parameter."
   ]
  },
  {
   "cell_type": "code",
   "execution_count": null,
   "metadata": {},
   "outputs": [],
   "source": [
    "my_sort(data, func=lambda x: x[\"price\"])"
   ]
  },
  {
   "cell_type": "code",
   "execution_count": null,
   "metadata": {},
   "outputs": [],
   "source": [
    "data"
   ]
  },
  {
   "cell_type": "markdown",
   "metadata": {},
   "source": [
    "Het sorteren van deze data duurt een lange tijd en gaat nooit binnen acceptabele tijd executen. Waarschijnlijk omdat de dataset te groot is voor dit sorteer algoritme. Voor echte data science projecten is de lengte van de json data bijna niets."
   ]
  },
  {
   "cell_type": "markdown",
   "metadata": {},
   "source": [
    "## Beschrijvende statistiek"
   ]
  },
  {
   "cell_type": "markdown",
   "metadata": {},
   "source": [
    "\"The pandas way\""
   ]
  },
  {
   "cell_type": "code",
   "execution_count": 11,
   "metadata": {},
   "outputs": [
    {
     "data": {
      "text/html": [
       "<div>\n",
       "<style scoped>\n",
       "    .dataframe tbody tr th:only-of-type {\n",
       "        vertical-align: middle;\n",
       "    }\n",
       "\n",
       "    .dataframe tbody tr th {\n",
       "        vertical-align: top;\n",
       "    }\n",
       "\n",
       "    .dataframe thead th {\n",
       "        text-align: right;\n",
       "    }\n",
       "</style>\n",
       "<table border=\"1\" class=\"dataframe\">\n",
       "  <thead>\n",
       "    <tr style=\"text-align: right;\">\n",
       "      <th></th>\n",
       "      <th>appid</th>\n",
       "      <th>english</th>\n",
       "      <th>required_age</th>\n",
       "      <th>achievements</th>\n",
       "      <th>positive_ratings</th>\n",
       "      <th>negative_ratings</th>\n",
       "      <th>average_playtime</th>\n",
       "      <th>median_playtime</th>\n",
       "      <th>price</th>\n",
       "    </tr>\n",
       "  </thead>\n",
       "  <tbody>\n",
       "    <tr>\n",
       "      <th>count</th>\n",
       "      <td>2.706500e+04</td>\n",
       "      <td>27065.000000</td>\n",
       "      <td>27065.000000</td>\n",
       "      <td>27065.000000</td>\n",
       "      <td>2.706500e+04</td>\n",
       "      <td>27065.000000</td>\n",
       "      <td>27065.000000</td>\n",
       "      <td>27065.000000</td>\n",
       "      <td>27065.000000</td>\n",
       "    </tr>\n",
       "    <tr>\n",
       "      <th>mean</th>\n",
       "      <td>5.962736e+05</td>\n",
       "      <td>0.981415</td>\n",
       "      <td>0.354369</td>\n",
       "      <td>45.263551</td>\n",
       "      <td>1.000514e+03</td>\n",
       "      <td>211.065213</td>\n",
       "      <td>149.842786</td>\n",
       "      <td>146.096471</td>\n",
       "      <td>6.075303</td>\n",
       "    </tr>\n",
       "    <tr>\n",
       "      <th>std</th>\n",
       "      <td>2.508814e+05</td>\n",
       "      <td>0.135056</td>\n",
       "      <td>2.404089</td>\n",
       "      <td>352.734535</td>\n",
       "      <td>1.899214e+04</td>\n",
       "      <td>4285.728049</td>\n",
       "      <td>1827.372593</td>\n",
       "      <td>2354.313055</td>\n",
       "      <td>7.872129</td>\n",
       "    </tr>\n",
       "    <tr>\n",
       "      <th>min</th>\n",
       "      <td>1.000000e+01</td>\n",
       "      <td>0.000000</td>\n",
       "      <td>0.000000</td>\n",
       "      <td>0.000000</td>\n",
       "      <td>0.000000e+00</td>\n",
       "      <td>0.000000</td>\n",
       "      <td>0.000000</td>\n",
       "      <td>0.000000</td>\n",
       "      <td>0.000000</td>\n",
       "    </tr>\n",
       "    <tr>\n",
       "      <th>25%</th>\n",
       "      <td>4.013600e+05</td>\n",
       "      <td>1.000000</td>\n",
       "      <td>0.000000</td>\n",
       "      <td>0.000000</td>\n",
       "      <td>6.000000e+00</td>\n",
       "      <td>2.000000</td>\n",
       "      <td>0.000000</td>\n",
       "      <td>0.000000</td>\n",
       "      <td>1.690000</td>\n",
       "    </tr>\n",
       "    <tr>\n",
       "      <th>50%</th>\n",
       "      <td>5.990900e+05</td>\n",
       "      <td>1.000000</td>\n",
       "      <td>0.000000</td>\n",
       "      <td>7.000000</td>\n",
       "      <td>2.400000e+01</td>\n",
       "      <td>9.000000</td>\n",
       "      <td>0.000000</td>\n",
       "      <td>0.000000</td>\n",
       "      <td>3.990000</td>\n",
       "    </tr>\n",
       "    <tr>\n",
       "      <th>75%</th>\n",
       "      <td>7.988300e+05</td>\n",
       "      <td>1.000000</td>\n",
       "      <td>0.000000</td>\n",
       "      <td>23.000000</td>\n",
       "      <td>1.260000e+02</td>\n",
       "      <td>42.000000</td>\n",
       "      <td>0.000000</td>\n",
       "      <td>0.000000</td>\n",
       "      <td>7.190000</td>\n",
       "    </tr>\n",
       "    <tr>\n",
       "      <th>max</th>\n",
       "      <td>1.069460e+06</td>\n",
       "      <td>1.000000</td>\n",
       "      <td>18.000000</td>\n",
       "      <td>9821.000000</td>\n",
       "      <td>2.644404e+06</td>\n",
       "      <td>487076.000000</td>\n",
       "      <td>190625.000000</td>\n",
       "      <td>190625.000000</td>\n",
       "      <td>421.990000</td>\n",
       "    </tr>\n",
       "  </tbody>\n",
       "</table>\n",
       "</div>"
      ],
      "text/plain": [
       "              appid       english  required_age  achievements  \\\n",
       "count  2.706500e+04  27065.000000  27065.000000  27065.000000   \n",
       "mean   5.962736e+05      0.981415      0.354369     45.263551   \n",
       "std    2.508814e+05      0.135056      2.404089    352.734535   \n",
       "min    1.000000e+01      0.000000      0.000000      0.000000   \n",
       "25%    4.013600e+05      1.000000      0.000000      0.000000   \n",
       "50%    5.990900e+05      1.000000      0.000000      7.000000   \n",
       "75%    7.988300e+05      1.000000      0.000000     23.000000   \n",
       "max    1.069460e+06      1.000000     18.000000   9821.000000   \n",
       "\n",
       "       positive_ratings  negative_ratings  average_playtime  median_playtime  \\\n",
       "count      2.706500e+04      27065.000000      27065.000000     27065.000000   \n",
       "mean       1.000514e+03        211.065213        149.842786       146.096471   \n",
       "std        1.899214e+04       4285.728049       1827.372593      2354.313055   \n",
       "min        0.000000e+00          0.000000          0.000000         0.000000   \n",
       "25%        6.000000e+00          2.000000          0.000000         0.000000   \n",
       "50%        2.400000e+01          9.000000          0.000000         0.000000   \n",
       "75%        1.260000e+02         42.000000          0.000000         0.000000   \n",
       "max        2.644404e+06     487076.000000     190625.000000    190625.000000   \n",
       "\n",
       "              price  \n",
       "count  27065.000000  \n",
       "mean       6.075303  \n",
       "std        7.872129  \n",
       "min        0.000000  \n",
       "25%        1.690000  \n",
       "50%        3.990000  \n",
       "75%        7.190000  \n",
       "max      421.990000  "
      ]
     },
     "execution_count": 11,
     "metadata": {},
     "output_type": "execute_result"
    }
   ],
   "source": [
    "df.describe()"
   ]
  },
  {
   "cell_type": "code",
   "execution_count": 23,
   "metadata": {
    "scrolled": true
   },
   "outputs": [
    {
     "data": {
      "text/html": [
       "<div>\n",
       "<style scoped>\n",
       "    .dataframe tbody tr th:only-of-type {\n",
       "        vertical-align: middle;\n",
       "    }\n",
       "\n",
       "    .dataframe tbody tr th {\n",
       "        vertical-align: top;\n",
       "    }\n",
       "\n",
       "    .dataframe thead th {\n",
       "        text-align: right;\n",
       "    }\n",
       "</style>\n",
       "<table border=\"1\" class=\"dataframe\">\n",
       "  <thead>\n",
       "    <tr style=\"text-align: right;\">\n",
       "      <th></th>\n",
       "      <th>appid</th>\n",
       "      <th>english</th>\n",
       "      <th>required_age</th>\n",
       "      <th>achievements</th>\n",
       "      <th>positive_ratings</th>\n",
       "      <th>negative_ratings</th>\n",
       "      <th>average_playtime</th>\n",
       "      <th>median_playtime</th>\n",
       "      <th>price</th>\n",
       "    </tr>\n",
       "  </thead>\n",
       "  <tbody>\n",
       "    <tr>\n",
       "      <th>appid</th>\n",
       "      <td>1.000000</td>\n",
       "      <td>-0.119305</td>\n",
       "      <td>-0.087558</td>\n",
       "      <td>0.040481</td>\n",
       "      <td>-0.070871</td>\n",
       "      <td>-0.052209</td>\n",
       "      <td>-0.070253</td>\n",
       "      <td>-0.048323</td>\n",
       "      <td>-0.151818</td>\n",
       "    </tr>\n",
       "    <tr>\n",
       "      <th>english</th>\n",
       "      <td>-0.119305</td>\n",
       "      <td>1.000000</td>\n",
       "      <td>0.004580</td>\n",
       "      <td>0.013999</td>\n",
       "      <td>0.005946</td>\n",
       "      <td>0.005673</td>\n",
       "      <td>0.000165</td>\n",
       "      <td>-0.003576</td>\n",
       "      <td>0.010798</td>\n",
       "    </tr>\n",
       "    <tr>\n",
       "      <th>required_age</th>\n",
       "      <td>-0.087558</td>\n",
       "      <td>0.004580</td>\n",
       "      <td>1.000000</td>\n",
       "      <td>-0.005435</td>\n",
       "      <td>0.060484</td>\n",
       "      <td>0.057648</td>\n",
       "      <td>0.034477</td>\n",
       "      <td>0.014777</td>\n",
       "      <td>0.120267</td>\n",
       "    </tr>\n",
       "    <tr>\n",
       "      <th>achievements</th>\n",
       "      <td>0.040481</td>\n",
       "      <td>0.013999</td>\n",
       "      <td>-0.005435</td>\n",
       "      <td>1.000000</td>\n",
       "      <td>0.006059</td>\n",
       "      <td>0.003577</td>\n",
       "      <td>0.014173</td>\n",
       "      <td>0.009955</td>\n",
       "      <td>-0.007951</td>\n",
       "    </tr>\n",
       "    <tr>\n",
       "      <th>positive_ratings</th>\n",
       "      <td>-0.070871</td>\n",
       "      <td>0.005946</td>\n",
       "      <td>0.060484</td>\n",
       "      <td>0.006059</td>\n",
       "      <td>1.000000</td>\n",
       "      <td>0.762806</td>\n",
       "      <td>0.157894</td>\n",
       "      <td>0.035773</td>\n",
       "      <td>0.036162</td>\n",
       "    </tr>\n",
       "    <tr>\n",
       "      <th>negative_ratings</th>\n",
       "      <td>-0.052209</td>\n",
       "      <td>0.005673</td>\n",
       "      <td>0.057648</td>\n",
       "      <td>0.003577</td>\n",
       "      <td>0.762806</td>\n",
       "      <td>1.000000</td>\n",
       "      <td>0.161139</td>\n",
       "      <td>0.047886</td>\n",
       "      <td>0.051305</td>\n",
       "    </tr>\n",
       "    <tr>\n",
       "      <th>average_playtime</th>\n",
       "      <td>-0.070253</td>\n",
       "      <td>0.000165</td>\n",
       "      <td>0.034477</td>\n",
       "      <td>0.014173</td>\n",
       "      <td>0.157894</td>\n",
       "      <td>0.161139</td>\n",
       "      <td>1.000000</td>\n",
       "      <td>0.914900</td>\n",
       "      <td>0.049306</td>\n",
       "    </tr>\n",
       "    <tr>\n",
       "      <th>median_playtime</th>\n",
       "      <td>-0.048323</td>\n",
       "      <td>-0.003576</td>\n",
       "      <td>0.014777</td>\n",
       "      <td>0.009955</td>\n",
       "      <td>0.035773</td>\n",
       "      <td>0.047886</td>\n",
       "      <td>0.914900</td>\n",
       "      <td>1.000000</td>\n",
       "      <td>0.036657</td>\n",
       "    </tr>\n",
       "    <tr>\n",
       "      <th>price</th>\n",
       "      <td>-0.151818</td>\n",
       "      <td>0.010798</td>\n",
       "      <td>0.120267</td>\n",
       "      <td>-0.007951</td>\n",
       "      <td>0.036162</td>\n",
       "      <td>0.051305</td>\n",
       "      <td>0.049306</td>\n",
       "      <td>0.036657</td>\n",
       "      <td>1.000000</td>\n",
       "    </tr>\n",
       "  </tbody>\n",
       "</table>\n",
       "</div>"
      ],
      "text/plain": [
       "                     appid   english  required_age  achievements  \\\n",
       "appid             1.000000 -0.119305     -0.087558      0.040481   \n",
       "english          -0.119305  1.000000      0.004580      0.013999   \n",
       "required_age     -0.087558  0.004580      1.000000     -0.005435   \n",
       "achievements      0.040481  0.013999     -0.005435      1.000000   \n",
       "positive_ratings -0.070871  0.005946      0.060484      0.006059   \n",
       "negative_ratings -0.052209  0.005673      0.057648      0.003577   \n",
       "average_playtime -0.070253  0.000165      0.034477      0.014173   \n",
       "median_playtime  -0.048323 -0.003576      0.014777      0.009955   \n",
       "price            -0.151818  0.010798      0.120267     -0.007951   \n",
       "\n",
       "                  positive_ratings  negative_ratings  average_playtime  \\\n",
       "appid                    -0.070871         -0.052209         -0.070253   \n",
       "english                   0.005946          0.005673          0.000165   \n",
       "required_age              0.060484          0.057648          0.034477   \n",
       "achievements              0.006059          0.003577          0.014173   \n",
       "positive_ratings          1.000000          0.762806          0.157894   \n",
       "negative_ratings          0.762806          1.000000          0.161139   \n",
       "average_playtime          0.157894          0.161139          1.000000   \n",
       "median_playtime           0.035773          0.047886          0.914900   \n",
       "price                     0.036162          0.051305          0.049306   \n",
       "\n",
       "                  median_playtime     price  \n",
       "appid                   -0.048323 -0.151818  \n",
       "english                 -0.003576  0.010798  \n",
       "required_age             0.014777  0.120267  \n",
       "achievements             0.009955 -0.007951  \n",
       "positive_ratings         0.035773  0.036162  \n",
       "negative_ratings         0.047886  0.051305  \n",
       "average_playtime         0.914900  0.049306  \n",
       "median_playtime          1.000000  0.036657  \n",
       "price                    0.036657  1.000000  "
      ]
     },
     "execution_count": 23,
     "metadata": {},
     "output_type": "execute_result"
    }
   ],
   "source": [
    "df.corr()"
   ]
  },
  {
   "cell_type": "code",
   "execution_count": 26,
   "metadata": {
    "scrolled": true
   },
   "outputs": [
    {
     "data": {
      "text/plain": [
       "<AxesSubplot:>"
      ]
     },
     "execution_count": 26,
     "metadata": {},
     "output_type": "execute_result"
    },
    {
     "data": {
      "image/png": "[encoded data removed]",
      "text/plain": [
       "<Figure size 432x288 with 2 Axes>"
      ]
     },
     "metadata": {
      "needs_background": "light"
     },
     "output_type": "display_data"
    }
   ],
   "source": [
    "sns.heatmap(df.corr(), annot=True, cmap=\"YlGnBu\")"
   ]
  },
  {
   "cell_type": "markdown",
   "metadata": {},
   "source": [
    "Dat was makkelijk! Laten we het nu met eigen functies proberen."
   ]
  },
  {
   "cell_type": "code",
   "execution_count": 21,
   "metadata": {},
   "outputs": [],
   "source": [
    "def mean(lst, func=lambda x: x):\n",
    "    \"\"\" Retourneert het gemiddelde (float) van de lijst lst. \"\"\"\n",
    "    values = list(map(func, lst))\n",
    "    return float(sum(values)/len(values))"
   ]
  },
  {
   "cell_type": "code",
   "execution_count": 22,
   "metadata": {
    "scrolled": true
   },
   "outputs": [
    {
     "data": {
      "text/plain": [
       "6.075302789581262"
      ]
     },
     "execution_count": 22,
     "metadata": {},
     "output_type": "execute_result"
    }
   ],
   "source": [
    "mean(data, func=lambda x: x[\"price\"])"
   ]
  },
  {
   "cell_type": "code",
   "execution_count": 30,
   "metadata": {},
   "outputs": [],
   "source": [
    "def rnge(lst, func=lambda x: x):\n",
    "    \"\"\" Retourneert het bereik (int) van de lijst lst. \"\"\"\n",
    "    values = list(map(func, lst))\n",
    "    return max(values) - min(values)"
   ]
  },
  {
   "cell_type": "code",
   "execution_count": 31,
   "metadata": {},
   "outputs": [
    {
     "data": {
      "text/plain": [
       "421.99"
      ]
     },
     "execution_count": 31,
     "metadata": {},
     "output_type": "execute_result"
    }
   ],
   "source": [
    "rnge(data, func=lambda x: x[\"price\"])"
   ]
  },
  {
   "cell_type": "code",
   "execution_count": 39,
   "metadata": {},
   "outputs": [],
   "source": [
    "def median(lst, func=lambda x: x):\n",
    "    \"\"\" Retourneert de mediaan (float) van de lijst lst. \"\"\"\n",
    "    m = None\n",
    "    \n",
    "    \n",
    "    values = list(map(func, lst))\n",
    "    \n",
    "    values = sorted(values)\n",
    "\n",
    "    while True:\n",
    "        if len(values) > 2:\n",
    "            values.pop(0)\n",
    "            values.pop(-1)\n",
    "        elif len(values) == 2:\n",
    "            m = mean(values)\n",
    "            break\n",
    "        elif len(values) < 2:\n",
    "            m = values[0]\n",
    "            break\n",
    "\n",
    "    return m"
   ]
  },
  {
   "cell_type": "code",
   "execution_count": 40,
   "metadata": {},
   "outputs": [
    {
     "data": {
      "text/plain": [
       "3.99"
      ]
     },
     "execution_count": 40,
     "metadata": {},
     "output_type": "execute_result"
    }
   ],
   "source": [
    "median(data, func=lambda x: x[\"price\"])"
   ]
  },
  {
   "cell_type": "code",
   "execution_count": 49,
   "metadata": {},
   "outputs": [],
   "source": [
    "def q1(lst, func=lambda x: x):\n",
    "    \"\"\"\n",
    "    Retourneert het eerste kwartiel Q1 (float) van de lijst lst.\n",
    "    Tip: maak gebruik van median()\n",
    "    \"\"\"\n",
    "\n",
    "    values = list(map(func, lst))\n",
    "    \n",
    "    m = median(values)\n",
    "\n",
    "    new_lst = []\n",
    "\n",
    "    for n in values:\n",
    "        if n <= m:\n",
    "            new_lst.append(n)\n",
    "\n",
    "    if m in new_lst:\n",
    "        del new_lst[-1]\n",
    "\n",
    "    m = median(new_lst)\n",
    "\n",
    "    return m"
   ]
  },
  {
   "cell_type": "code",
   "execution_count": 50,
   "metadata": {},
   "outputs": [
    {
     "data": {
      "text/plain": [
       "1.69"
      ]
     },
     "execution_count": 50,
     "metadata": {},
     "output_type": "execute_result"
    }
   ],
   "source": [
    "q1(data, func=lambda x: x[\"price\"])"
   ]
  },
  {
   "cell_type": "code",
   "execution_count": 51,
   "metadata": {},
   "outputs": [],
   "source": [
    "def q3(lst, func=lambda x: x):\n",
    "    \"\"\" Retourneert het derde kwartiel Q3 (float) van de lijst lst. \"\"\"\n",
    "    \n",
    "    values = list(map(func, lst))\n",
    "    \n",
    "    m = median(values)\n",
    "\n",
    "    new_lst = []\n",
    "\n",
    "    for n in values:\n",
    "        if n >= m:\n",
    "            new_lst.append(n)\n",
    "\n",
    "    if m in new_lst:\n",
    "        del new_lst[0]\n",
    "\n",
    "    m = median(new_lst)\n",
    "\n",
    "    return m"
   ]
  },
  {
   "cell_type": "code",
   "execution_count": 52,
   "metadata": {},
   "outputs": [
    {
     "data": {
      "text/plain": [
       "6.99"
      ]
     },
     "execution_count": 52,
     "metadata": {},
     "output_type": "execute_result"
    }
   ],
   "source": [
    "q3(data, lambda x: x[\"price\"])"
   ]
  },
  {
   "cell_type": "code",
   "execution_count": 56,
   "metadata": {},
   "outputs": [],
   "source": [
    "def var(lst, func=lambda x: x):\n",
    "    \"\"\" Retourneert de variantie (float) van de lijst lst. \"\"\"\n",
    "    values = list(map(func, lst))\n",
    "    \n",
    "    m = mean(values)\n",
    "\n",
    "    v = 0\n",
    "\n",
    "    for n in values:\n",
    "        v += (n - m)**2\n",
    "\n",
    "    v = v / len(values)\n",
    "\n",
    "    return v"
   ]
  },
  {
   "cell_type": "code",
   "execution_count": 57,
   "metadata": {},
   "outputs": [
    {
     "data": {
      "text/plain": [
       "61.96812370013764"
      ]
     },
     "execution_count": 57,
     "metadata": {},
     "output_type": "execute_result"
    }
   ],
   "source": [
    "var(data, func=lambda x: x[\"price\"])"
   ]
  },
  {
   "cell_type": "code",
   "execution_count": 58,
   "metadata": {},
   "outputs": [],
   "source": [
    "def std(lst, func=lambda x: x):\n",
    "    \"\"\" Retourneert de standaardafwijking (float) van de lijst lst. \"\"\"\n",
    "    values = list(map(func, lst))\n",
    "    \n",
    "    return var(values)**(1/2)"
   ]
  },
  {
   "cell_type": "code",
   "execution_count": 59,
   "metadata": {},
   "outputs": [
    {
     "data": {
      "text/plain": [
       "7.87198346670886"
      ]
     },
     "execution_count": 59,
     "metadata": {},
     "output_type": "execute_result"
    }
   ],
   "source": [
    "std(data, func=lambda x: x[\"price\"])"
   ]
  }
 ],
 "metadata": {
  "kernelspec": {
   "display_name": "Python 3",
   "language": "python",
   "name": "python3"
  },
  "language_info": {
   "codemirror_mode": {
    "name": "ipython",
    "version": 3
   },
   "file_extension": ".py",
   "mimetype": "text/x-python",
   "name": "python",
   "nbconvert_exporter": "python",
   "pygments_lexer": "ipython3",
   "version": "3.9.0"
  }
 },
 "nbformat": 4,
 "nbformat_minor": 4
}
